{
  "nbformat": 4,
  "nbformat_minor": 0,
  "metadata": {
    "colab": {
      "provenance": [],
      "gpuType": "T4",
      "authorship_tag": "ABX9TyNA8Cx720xmGlw1F6URuiO2",
      "include_colab_link": true
    },
    "kernelspec": {
      "name": "python3",
      "display_name": "Python 3"
    },
    "language_info": {
      "name": "python"
    },
    "accelerator": "GPU"
  },
  "cells": [
    {
      "cell_type": "markdown",
      "metadata": {
        "id": "view-in-github",
        "colab_type": "text"
      },
      "source": [
        "<a href=\"https://colab.research.google.com/github/AntoineChapel/vfi_project/blob/main/vfi.ipynb\" target=\"_parent\"><img src=\"https://colab.research.google.com/assets/colab-badge.svg\" alt=\"Open In Colab\"/></a>"
      ]
    },
    {
      "cell_type": "code",
      "execution_count": 92,
      "metadata": {
        "id": "stUbHYffPhV9"
      },
      "outputs": [],
      "source": [
        "import jax\n",
        "import jax.numpy as jnp\n",
        "import numpy as np\n",
        "from jax import jit"
      ]
    },
    {
      "cell_type": "code",
      "source": [
        "#random number generating key\n",
        "key = jax.random.PRNGKey(0)\n",
        "key, subkey = jax.random.split(key)"
      ],
      "metadata": {
        "id": "S5dMLd6LPuxx"
      },
      "execution_count": 94,
      "outputs": []
    },
    {
      "cell_type": "code",
      "source": [
        "#numpy-based function that fills the value_array with log(max(0.01, Ak^alpha - kprim)) + beta*Vkprim\n",
        "\n",
        "def fill_va_np(kgrid, A, alpha, beta, Vk):\n",
        "  precision = kgrid.shape[0]\n",
        "  value_array = np.empty((precision, precision))\n",
        "  for iprim, kprim in enumerate(kgrid):\n",
        "    for i, k in enumerate(kgrid):\n",
        "      c = A*(k**alpha) - kprim\n",
        "      value_array[i, iprim] = np.where(c > 0.01, np.log(c) + beta*Vk[iprim], -np.inf)\n",
        "  return value_array"
      ],
      "metadata": {
        "id": "E-mmeaAHQIdJ"
      },
      "execution_count": 137,
      "outputs": []
    },
    {
      "cell_type": "code",
      "source": [
        "#jax-based function that fills the value array with log(max(0.01, Ak^alpha - kprim)) + beta*Vkprim\n",
        "\n",
        "def fill_va_jax(kgrid, A, alpha, beta, Vk):\n",
        "  prec = kgrid.shape[0]\n",
        "  C_mat = jax.vmap(lambda k: A*(k**alpha) - kgrid)(kgrid)\n",
        "  log_C_mat = jnp.where(C_mat > 0.0, jnp.log(C_mat), -jnp.inf)\n",
        "  Vk = Vk.reshape(-1, 1)\n",
        "  value_array = log_C_mat + beta*Vk.T\n",
        "  return value_array\n",
        "fill_va_jax_compiled = jit(fill_va_jax) #jit-compile the function"
      ],
      "metadata": {
        "id": "-9b6H4OSRzdY"
      },
      "execution_count": 138,
      "outputs": []
    },
    {
      "cell_type": "code",
      "source": [
        "def vfi_np(kmin, kmax, A, alpha, beta, precision, maxiter, tol, va_func=\"va_np\", verbose=2):\n",
        "  kgrid = np.linspace(kmin, kmax, precision)\n",
        "  gk = np.linspace(kmin, kmax, precision)\n",
        "  Vk0 = jax.random.normal(key, shape=(1, precision)).flatten()\n",
        "  norm = 1000\n",
        "  n_iter = 0\n",
        "  Vk = Vk0\n",
        "  while n_iter < maxiter and norm > tol:\n",
        "      if va_func == \"va_jax\":\n",
        "        value_array = fill_va_jax_compiled(kgrid, A, alpha, beta, Vk)\n",
        "      else:\n",
        "        value_array = fill_va_np(kgrid, A, alpha, beta, Vk)\n",
        "\n",
        "      Vkprim = np.max(value_array, axis=1)\n",
        "      norm = np.max(np.abs(Vkprim - Vk))\n",
        "\n",
        "      Vk = Vkprim.copy()\n",
        "\n",
        "      n_iter += 1\n",
        "      if verbose > 1:\n",
        "        print(\"iteration: \", n_iter, \" norm: \", norm)\n",
        "  gk = kgrid[np.argmax(value_array, axis=1)]\n",
        "  kstar = kgrid[np.argmin(np.abs(gk - kgrid))]\n",
        "  if verbose > 0:\n",
        "    print(f\"The steady-state value of capital is {kstar}\")\n"
      ],
      "metadata": {
        "id": "VSb8tqxma7Jx"
      },
      "execution_count": 144,
      "outputs": []
    },
    {
      "cell_type": "code",
      "source": [
        "def vfi_jax(kmin, kmax, A, alpha, beta, prec, maxiter, tol, verbose=2):\n",
        "  kgrid = jnp.linspace(kmin, kmax, prec)\n",
        "  Vk0 = jax.random.normal(key, shape=(1, prec)).flatten()\n",
        "  norm = 1000\n",
        "  n_iter = 0\n",
        "\n",
        "  Vk = Vk0\n",
        "  while n_iter < maxiter and norm > tol:\n",
        "    value_array = fill_va_jax_compiled(kgrid, A, alpha, beta, Vk)\n",
        "    Vkprim = jnp.max(value_array, axis=1).block_until_ready()\n",
        "    norm = jnp.max(jnp.abs(Vkprim - Vk)).block_until_ready()\n",
        "    Vk = Vkprim\n",
        "    n_iter += 1\n",
        "    if verbose > 1:\n",
        "      print(f\"Iteration: {n_iter} Norm: {norm}\")\n",
        "  gk = kgrid[jnp.argmax(value_array, axis=1).block_until_ready()]\n",
        "  kstar = kgrid[jnp.argmin(jnp.abs(gk - kgrid))]\n",
        "  if verbose > 0:\n",
        "    print(f\"The Steady-state value of capital is:{kstar}\")"
      ],
      "metadata": {
        "id": "8TzGlEoGVu07"
      },
      "execution_count": 145,
      "outputs": []
    },
    {
      "cell_type": "code",
      "source": [
        "#small dimensionality: pure numpy converges in 5.21s\n",
        "\n",
        "%%timeit\n",
        "vfi_np(1, 25, 10, 0.5, 0.9, 50, 180, 1e-6, \"va_np\", 0)"
      ],
      "metadata": {
        "id": "owhr6Gkib69g",
        "colab": {
          "base_uri": "https://localhost:8080/"
        },
        "outputId": "f4275bf6-4bbc-4590-abe4-a3cf0bc8ba95"
      },
      "execution_count": 146,
      "outputs": [
        {
          "output_type": "stream",
          "name": "stderr",
          "text": [
            "<ipython-input-137-e1aec6cc49db>:9: RuntimeWarning: invalid value encountered in log\n",
            "  value_array[i, iprim] = np.where(c > 0.01, np.log(c) + beta*Vk[iprim], -np.inf)\n"
          ]
        },
        {
          "output_type": "stream",
          "name": "stdout",
          "text": [
            "5.21 s ± 275 ms per loop (mean ± std. dev. of 7 runs, 1 loop each)\n"
          ]
        }
      ]
    },
    {
      "cell_type": "code",
      "source": [
        "#small dimensionality: np outer with jax inner converges in 166ms\n",
        "%%timeit\n",
        "vfi_np(1, 25, 10, 0.5, 0.9, 50, 180, 1e-6, \"va_jax\", 0)"
      ],
      "metadata": {
        "colab": {
          "base_uri": "https://localhost:8080/"
        },
        "id": "aA4sftP_eGmF",
        "outputId": "2b7c0b90-3630-4b40-a7d4-f0cda37928b1"
      },
      "execution_count": 150,
      "outputs": [
        {
          "output_type": "stream",
          "name": "stdout",
          "text": [
            "166 ms ± 35.2 ms per loop (mean ± std. dev. of 7 runs, 10 loops each)\n"
          ]
        }
      ]
    },
    {
      "cell_type": "code",
      "source": [
        "#small dimensionality: pure jax converges in 179ms\n",
        "%%timeit\n",
        "vfi_jax(1, 25, 10, 0.5, 0.9, 50, 180, 1e-6, 0)"
      ],
      "metadata": {
        "id": "Zx2BhCEHizwO",
        "colab": {
          "base_uri": "https://localhost:8080/"
        },
        "outputId": "2082ada5-e7aa-4742-9cd9-6737c67c95c1"
      },
      "execution_count": 151,
      "outputs": [
        {
          "output_type": "stream",
          "name": "stdout",
          "text": [
            "179 ms ± 18.9 ms per loop (mean ± std. dev. of 7 runs, 10 loops each)\n"
          ]
        }
      ]
    },
    {
      "cell_type": "code",
      "source": [
        "#large dimensionality: np outer with jax inner converges in 646ms\n",
        "%%timeit\n",
        "vfi_np(1, 25, 10, 0.5, 0.9, 10000, 180, 1e-6, \"va_jax\", 0)"
      ],
      "metadata": {
        "colab": {
          "base_uri": "https://localhost:8080/"
        },
        "id": "HZiSQQl6e2tI",
        "outputId": "d7719391-835a-438f-81f0-aa5f36effab1"
      },
      "execution_count": 152,
      "outputs": [
        {
          "output_type": "stream",
          "name": "stdout",
          "text": [
            "649 ms ± 23.1 ms per loop (mean ± std. dev. of 7 runs, 1 loop each)\n"
          ]
        }
      ]
    },
    {
      "cell_type": "code",
      "source": [
        "#large dimensionality: pure jax 10000 converges in 182ms\n",
        "%%timeit\n",
        "vfi_jax(1, 25, 10, 0.5, 0.9, 50, 180, 1e-6, 0)"
      ],
      "metadata": {
        "colab": {
          "base_uri": "https://localhost:8080/"
        },
        "id": "1VZujRJsfZet",
        "outputId": "86cf80cf-e18e-47fd-b9c5-ad8d80e04866"
      },
      "execution_count": 153,
      "outputs": [
        {
          "output_type": "stream",
          "name": "stdout",
          "text": [
            "182 ms ± 18.2 ms per loop (mean ± std. dev. of 7 runs, 1 loop each)\n"
          ]
        }
      ]
    }
  ]
}