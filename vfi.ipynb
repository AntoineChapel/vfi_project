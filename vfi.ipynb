{
  "nbformat": 4,
  "nbformat_minor": 0,
  "metadata": {
    "colab": {
      "provenance": [],
      "gpuType": "T4",
      "authorship_tag": "ABX9TyNuD2xmOK/Vphsuoa3mRz2M",
      "include_colab_link": true
    },
    "kernelspec": {
      "name": "python3",
      "display_name": "Python 3"
    },
    "language_info": {
      "name": "python"
    },
    "accelerator": "GPU"
  },
  "cells": [
    {
      "cell_type": "markdown",
      "metadata": {
        "id": "view-in-github",
        "colab_type": "text"
      },
      "source": [
        "<a href=\"https://colab.research.google.com/github/AntoineChapel/vfi_project/blob/main/vfi.ipynb\" target=\"_parent\"><img src=\"https://colab.research.google.com/assets/colab-badge.svg\" alt=\"Open In Colab\"/></a>"
      ]
    },
    {
      "cell_type": "code",
      "execution_count": 1,
      "metadata": {
        "id": "stUbHYffPhV9"
      },
      "outputs": [],
      "source": [
        "import jax\n",
        "import jax.numpy as jnp\n",
        "import numpy as np\n",
        "from jax import jit"
      ]
    },
    {
      "cell_type": "code",
      "source": [
        "#random number generating key\n",
        "key = jax.random.PRNGKey(0)\n",
        "key, subkey = jax.random.split(key)"
      ],
      "metadata": {
        "id": "S5dMLd6LPuxx"
      },
      "execution_count": 2,
      "outputs": []
    },
    {
      "cell_type": "code",
      "source": [
        "#numpy-based function that fills the value_array with log(max(0.01, Ak^alpha - kprim)) + beta*Vkprim\n",
        "\n",
        "def fill_va_np(kgrid, A, alpha, beta, Vk):\n",
        "  precision = kgrid.shape[0]\n",
        "  value_array = np.empty((precision, precision))\n",
        "  for iprim, kprim in enumerate(kgrid):\n",
        "    for i, k in enumerate(kgrid):\n",
        "      c = A*(k**alpha) - kprim\n",
        "      value_array[i, iprim] = np.where(c > 0.01, np.log(c) + beta*Vk[iprim], -np.inf)\n",
        "  return value_array"
      ],
      "metadata": {
        "id": "E-mmeaAHQIdJ"
      },
      "execution_count": 3,
      "outputs": []
    },
    {
      "cell_type": "code",
      "source": [
        "#jax-based function that fills the value array with log(max(0.01, Ak^alpha - kprim)) + beta*Vkprim\n",
        "\n",
        "def fill_va_jax(kgrid, A, alpha, beta, Vk):\n",
        "  prec = kgrid.shape[0]\n",
        "  C_mat = jax.vmap(lambda k: A*(k**alpha) - kgrid)(kgrid)\n",
        "  log_C_mat = jnp.where(C_mat > 0.0, jnp.log(C_mat), -jnp.inf)\n",
        "  Vk = Vk.reshape(-1, 1)\n",
        "  value_array = log_C_mat + beta*Vk.T\n",
        "  return value_array\n",
        "fill_va_jax_compiled = jit(fill_va_jax) #jit-compile the function"
      ],
      "metadata": {
        "id": "-9b6H4OSRzdY"
      },
      "execution_count": 4,
      "outputs": []
    },
    {
      "cell_type": "code",
      "source": [
        "def vfi_np(kmin, kmax, A, alpha, beta, precision, maxiter, tol, va_func=\"va_np\", verbose=2):\n",
        "  kgrid = np.linspace(kmin, kmax, precision)\n",
        "  gk = np.linspace(kmin, kmax, precision)\n",
        "  Vk0 = jax.random.normal(key, shape=(1, precision)).flatten()\n",
        "  norm = 1000\n",
        "  n_iter = 0\n",
        "  Vk = Vk0\n",
        "  while n_iter < maxiter and norm > tol:\n",
        "      if va_func == \"va_jax\":\n",
        "        value_array = fill_va_jax_compiled(kgrid, A, alpha, beta, Vk)\n",
        "      else:\n",
        "        value_array = fill_va_np(kgrid, A, alpha, beta, Vk)\n",
        "\n",
        "      Vkprim = np.max(value_array, axis=1)\n",
        "      norm = np.max(np.abs(Vkprim - Vk))\n",
        "      Vk = Vkprim.copy()\n",
        "\n",
        "      n_iter += 1\n",
        "      if verbose > 1:\n",
        "        print(\"iteration: \", n_iter, \" norm: \", norm)\n",
        "  gk = kgrid[np.argmax(value_array, axis=1)]\n",
        "  kstar = kgrid[np.argmin(np.abs(gk - kgrid))]\n",
        "  if verbose > 0:\n",
        "    print(f\"The steady-state value of capital is {kstar}\")\n"
      ],
      "metadata": {
        "id": "VSb8tqxma7Jx"
      },
      "execution_count": 5,
      "outputs": []
    },
    {
      "cell_type": "code",
      "source": [
        "def vfi_jax(kmin, kmax, A, alpha, beta, prec, maxiter, tol, verbose=2):\n",
        "  kgrid = jnp.linspace(kmin, kmax, prec)\n",
        "  Vk0 = jax.random.normal(key, shape=(1, prec)).flatten()\n",
        "  norm = 1000\n",
        "  n_iter = 0\n",
        "\n",
        "  Vk = Vk0\n",
        "  while n_iter < maxiter and norm > tol:\n",
        "    value_array = fill_va_jax_compiled(kgrid, A, alpha, beta, Vk)\n",
        "    Vkprim = jnp.max(value_array, axis=1).block_until_ready()\n",
        "    norm = jnp.max(jnp.abs(Vkprim - Vk)).block_until_ready()\n",
        "    Vk = Vkprim\n",
        "    n_iter += 1\n",
        "    if verbose > 1:\n",
        "      print(f\"Iteration: {n_iter} Norm: {norm}\")\n",
        "  gk = kgrid[jnp.argmax(value_array, axis=1).block_until_ready()]\n",
        "  kstar = kgrid[jnp.argmin(jnp.abs(gk - kgrid))]\n",
        "  if verbose > 0:\n",
        "    print(f\"The Steady-state value of capital is:{kstar}\")"
      ],
      "metadata": {
        "id": "8TzGlEoGVu07"
      },
      "execution_count": 6,
      "outputs": []
    },
    {
      "cell_type": "code",
      "source": [
        "#small dimensionality: pure numpy converges in 5.21s\n",
        "\n",
        "%%timeit\n",
        "vfi_np(1, 25, 10, 0.5, 0.9, 50, 180, 1e-6, \"va_np\", 0)"
      ],
      "metadata": {
        "id": "owhr6Gkib69g",
        "colab": {
          "base_uri": "https://localhost:8080/"
        },
        "outputId": "59b88f25-c7ff-4b70-e38f-1f067b693caf"
      },
      "execution_count": 9,
      "outputs": [
        {
          "output_type": "stream",
          "name": "stderr",
          "text": [
            "<ipython-input-3-e1aec6cc49db>:9: RuntimeWarning: invalid value encountered in log\n",
            "  value_array[i, iprim] = np.where(c > 0.01, np.log(c) + beta*Vk[iprim], -np.inf)\n"
          ]
        },
        {
          "output_type": "stream",
          "name": "stdout",
          "text": [
            "5.62 s ± 472 ms per loop (mean ± std. dev. of 7 runs, 1 loop each)\n"
          ]
        }
      ]
    },
    {
      "cell_type": "code",
      "source": [
        "#small dimensionality: np outer with jax inner converges in 175ms\n",
        "%%timeit\n",
        "vfi_np(1, 25, 10, 0.5, 0.9, 50, 180, 1e-6, \"va_jax\", 0)"
      ],
      "metadata": {
        "colab": {
          "base_uri": "https://localhost:8080/"
        },
        "id": "aA4sftP_eGmF",
        "outputId": "f93bd3f0-d72a-4115-c5a3-6915525a5cd9"
      },
      "execution_count": 10,
      "outputs": [
        {
          "output_type": "stream",
          "name": "stdout",
          "text": [
            "175 ms ± 20.1 ms per loop (mean ± std. dev. of 7 runs, 1 loop each)\n"
          ]
        }
      ]
    },
    {
      "cell_type": "code",
      "source": [
        "#small dimensionality: pure jax converges in 172ms\n",
        "%%timeit\n",
        "vfi_jax(1, 25, 10, 0.5, 0.9, 50, 180, 1e-6, 0)"
      ],
      "metadata": {
        "id": "Zx2BhCEHizwO",
        "colab": {
          "base_uri": "https://localhost:8080/"
        },
        "outputId": "94e53992-8f61-4b55-b03b-5df9201d9735"
      },
      "execution_count": 11,
      "outputs": [
        {
          "output_type": "stream",
          "name": "stdout",
          "text": [
            "172 ms ± 10.8 ms per loop (mean ± std. dev. of 7 runs, 1 loop each)\n"
          ]
        }
      ]
    },
    {
      "cell_type": "code",
      "source": [
        "#large dimensionality: np outer with jax inner converges in 636ms\n",
        "%%timeit\n",
        "vfi_np(1, 25, 10, 0.5, 0.9, 10000, 180, 1e-6, \"va_jax\", 0)"
      ],
      "metadata": {
        "colab": {
          "base_uri": "https://localhost:8080/"
        },
        "id": "HZiSQQl6e2tI",
        "outputId": "1039c8ef-bb7c-49c6-fd84-c3660ebd9acd"
      },
      "execution_count": 12,
      "outputs": [
        {
          "output_type": "stream",
          "name": "stdout",
          "text": [
            "636 ms ± 3.89 ms per loop (mean ± std. dev. of 7 runs, 1 loop each)\n"
          ]
        }
      ]
    },
    {
      "cell_type": "code",
      "source": [
        "#large dimensionality: pure jax converges in 679ms\n",
        "%%timeit\n",
        "vfi_jax(1, 25, 10, 0.5, 0.9, 10000, 180, 1e-6, 0)"
      ],
      "metadata": {
        "colab": {
          "base_uri": "https://localhost:8080/"
        },
        "id": "1VZujRJsfZet",
        "outputId": "2e33003d-8d3f-447d-ace2-52c22c7d230a"
      },
      "execution_count": 13,
      "outputs": [
        {
          "output_type": "stream",
          "name": "stdout",
          "text": [
            "679 ms ± 8.2 ms per loop (mean ± std. dev. of 7 runs, 1 loop each)\n"
          ]
        }
      ]
    }
  ]
}