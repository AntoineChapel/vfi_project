{
  "nbformat": 4,
  "nbformat_minor": 0,
  "metadata": {
    "colab": {
      "provenance": [],
      "gpuType": "T4",
      "include_colab_link": true
    },
    "kernelspec": {
      "name": "python3",
      "display_name": "Python 3"
    },
    "language_info": {
      "name": "python"
    },
    "accelerator": "GPU"
  },
  "cells": [
    {
      "cell_type": "markdown",
      "metadata": {
        "id": "view-in-github",
        "colab_type": "text"
      },
      "source": [
        "<a href=\"https://colab.research.google.com/github/AntoineChapel/vfi_project/blob/main/vfi.ipynb\" target=\"_parent\"><img src=\"https://colab.research.google.com/assets/colab-badge.svg\" alt=\"Open In Colab\"/></a>"
      ]
    },
    {
      "cell_type": "markdown",
      "source": [
        "# Value Function Iteration: an application of Google JAX\n",
        "The goal of this notebook is to demonstrate the effectiveness of Google JAX to solve economics problems with large dimensionality. I will follow the exact same algorithmic structure for the value function iteration algorithm used to solve the Neoclassical Growth Model.\n",
        "\n",
        "As a reminder, the object of this problem is to determine an optimal policy function such that, if capital at time $t$ is $k_t$, the optimal capital to invest for next period is given by $k_{t+1} = g(k_t)$, where $g$ is the policy function.\n",
        "\n",
        "The algorithm presented relies on the contraction mapping theorem to guarantee convergence. It is a fixed point algorithm that can be summarized in two operations. Given $n$ possible values for $k$ ($n$ states):\n",
        "- Adding a $n \\times n$ matrix of immediate utility and a $1 \\times n$ vector $V_k$ (the value function), broadcasted to a $n \\times n$ matrix, which yields a matrix called value array (identical to a $Q$ table in the $Q$-learning literature)\n",
        "- Taking the $\\max$ of each row of the value array, which determines the new value function $V_k'$\n",
        "\n",
        "We show that, in low-dimensional problems (setting $n=50$), using JAX over numpy yields modest speed gains. We also notice that solving the problem is faster on CPUs than on GPUs with such low-dimensional problems.\n",
        "\n",
        "Then, setting $n=10000$, we see that JAX yields impressive speed gains over numpy. There is no clear advantage to rewriting the entire code in jax.numpy arrays versus simply writing a jit-compiled version of the computation-intensive component of the algorithm and integrating it in an otherwise numpy environment."
      ],
      "metadata": {
        "id": "goWXX-Ydz9S5"
      }
    },
    {
      "cell_type": "code",
      "execution_count": null,
      "metadata": {
        "id": "stUbHYffPhV9"
      },
      "outputs": [],
      "source": [
        "import jax\n",
        "import jax.numpy as jnp\n",
        "import numpy as np\n",
        "from jax import jit"
      ]
    },
    {
      "cell_type": "code",
      "source": [
        "#random number generating key\n",
        "key = jax.random.PRNGKey(0)\n",
        "key, subkey = jax.random.split(key)"
      ],
      "metadata": {
        "id": "S5dMLd6LPuxx"
      },
      "execution_count": null,
      "outputs": []
    },
    {
      "cell_type": "code",
      "source": [
        "#numpy-based function that fills the value_array with log(max(0.01, Ak^alpha - kprim)) + beta*Vkprim\n",
        "\n",
        "def fill_va_np(kgrid, A, alpha, beta, Vk):\n",
        "  precision = kgrid.shape[0]\n",
        "  C_mat = A*(kgrid.reshape(-1, 1)**alpha) - kgrid.reshape(1, -1)\n",
        "  log_C_mat = np.where(C_mat > 0.01, np.log(C_mat), -np.inf)\n",
        "  value_array = log_C_mat + beta*Vk.T\n",
        "  return value_array"
      ],
      "metadata": {
        "id": "E-mmeaAHQIdJ"
      },
      "execution_count": null,
      "outputs": []
    },
    {
      "cell_type": "code",
      "source": [
        "np.ones(10).reshape(-1, 1) + np.linspace(1, 10, 10).reshape(-1, 1)"
      ],
      "metadata": {
        "id": "cQy6t-WGy2gn",
        "outputId": "70449895-6434-432c-f605-9e4aacfdcb40",
        "colab": {
          "base_uri": "https://localhost:8080/"
        }
      },
      "execution_count": null,
      "outputs": [
        {
          "output_type": "execute_result",
          "data": {
            "text/plain": [
              "array([[ 2.],\n",
              "       [ 3.],\n",
              "       [ 4.],\n",
              "       [ 5.],\n",
              "       [ 6.],\n",
              "       [ 7.],\n",
              "       [ 8.],\n",
              "       [ 9.],\n",
              "       [10.],\n",
              "       [11.]])"
            ]
          },
          "metadata": {},
          "execution_count": 19
        }
      ]
    },
    {
      "cell_type": "code",
      "source": [
        "#jax-based function that fills the value array with log(max(0.01, Ak^alpha - kprim)) + beta*Vkprim\n",
        "\n",
        "def fill_va_jax(kgrid, A, alpha, beta, Vk):\n",
        "  prec = kgrid.shape[0]\n",
        "  C_mat = jax.vmap(lambda k: A*(k**alpha) - kgrid)(kgrid)\n",
        "  log_C_mat = jnp.where(C_mat > 0.01, jnp.log(C_mat), -jnp.inf)\n",
        "  Vk = Vk.reshape(-1, 1)\n",
        "  value_array = log_C_mat + beta*Vk.T\n",
        "  return value_array\n",
        "fill_va_jax_compiled = jit(fill_va_jax) #jit-compile the function"
      ],
      "metadata": {
        "id": "-9b6H4OSRzdY"
      },
      "execution_count": null,
      "outputs": []
    },
    {
      "cell_type": "code",
      "source": [
        "def vfi_np(kmin, kmax, A, alpha, beta, precision, maxiter, tol, va_func=\"va_np\", verbose=2):\n",
        "  kgrid = np.linspace(kmin, kmax, precision)\n",
        "  gk = np.linspace(kmin, kmax, precision)\n",
        "  Vk0 = jax.random.normal(key, shape=(1, precision)).flatten()\n",
        "  norm = 1000\n",
        "  n_iter = 0\n",
        "  Vk = Vk0\n",
        "  while n_iter < maxiter and norm > tol:\n",
        "      if va_func == \"va_jax\":\n",
        "        value_array = fill_va_jax_compiled(kgrid, A, alpha, beta, Vk)\n",
        "      else:\n",
        "        value_array = fill_va_np(kgrid, A, alpha, beta, Vk)\n",
        "\n",
        "      Vkprim = np.max(value_array, axis=1)\n",
        "      norm = np.max(np.abs(Vkprim - Vk))\n",
        "      Vk = Vkprim.copy()\n",
        "\n",
        "      n_iter += 1\n",
        "      if verbose > 1:\n",
        "        print(\"iteration: \", n_iter, \" norm: \", norm)\n",
        "  gk = kgrid[np.argmax(value_array, axis=1)]\n",
        "  kstar = kgrid[np.argmin(np.abs(gk - kgrid))]\n",
        "  if verbose > 0:\n",
        "    print(f\"The steady-state value of capital is {kstar}\")\n"
      ],
      "metadata": {
        "id": "VSb8tqxma7Jx"
      },
      "execution_count": null,
      "outputs": []
    },
    {
      "cell_type": "code",
      "source": [
        "def vfi_jax(kmin, kmax, A, alpha, beta, prec, maxiter, tol, verbose=2):\n",
        "  kgrid = jnp.linspace(kmin, kmax, prec)\n",
        "  Vk0 = jax.random.normal(key, shape=(1, prec)).flatten()\n",
        "  norm = 1000\n",
        "  n_iter = 0\n",
        "\n",
        "  Vk = Vk0\n",
        "  while n_iter < maxiter and norm > tol:\n",
        "    value_array = fill_va_jax_compiled(kgrid, A, alpha, beta, Vk)\n",
        "    Vkprim = jnp.max(value_array, axis=1).block_until_ready()\n",
        "    norm = jnp.max(jnp.abs(Vkprim - Vk)).block_until_ready()\n",
        "    Vk = Vkprim\n",
        "    n_iter += 1\n",
        "    if verbose > 1:\n",
        "      print(f\"Iteration: {n_iter} Norm: {norm}\")\n",
        "  gk = kgrid[jnp.argmax(value_array, axis=1).block_until_ready()]\n",
        "  kstar = kgrid[jnp.argmin(jnp.abs(gk - kgrid))]\n",
        "  if verbose > 0:\n",
        "    print(f\"The Steady-state value of capital is:{kstar}\")"
      ],
      "metadata": {
        "id": "8TzGlEoGVu07"
      },
      "execution_count": null,
      "outputs": []
    },
    {
      "cell_type": "code",
      "source": [
        "#small dimensionality: pure numpy converges in 192s\n",
        "\n",
        "%%timeit\n",
        "vfi_np(1, 25, 10, 0.5, 0.9, 50, 180, 1e-6, \"va_np\", 0)"
      ],
      "metadata": {
        "id": "owhr6Gkib69g",
        "colab": {
          "base_uri": "https://localhost:8080/"
        },
        "outputId": "540ab642-ebce-42f2-da49-1551f7c2d9fc"
      },
      "execution_count": null,
      "outputs": [
        {
          "output_type": "stream",
          "name": "stderr",
          "text": [
            "<ipython-input-18-c7b70530892c>:6: RuntimeWarning: invalid value encountered in log\n",
            "  log_C_mat = np.where(C_mat > 0.01, np.log(C_mat), -np.inf)\n"
          ]
        },
        {
          "output_type": "stream",
          "name": "stdout",
          "text": [
            "192 ms ± 12.6 ms per loop (mean ± std. dev. of 7 runs, 10 loops each)\n"
          ]
        }
      ]
    },
    {
      "cell_type": "code",
      "source": [
        "#small dimensionality: np outer with jax inner converges in 149ms\n",
        "%%timeit\n",
        "vfi_np(1, 25, 10, 0.5, 0.9, 50, 180, 1e-6, \"va_jax\", 0)"
      ],
      "metadata": {
        "colab": {
          "base_uri": "https://localhost:8080/"
        },
        "id": "aA4sftP_eGmF",
        "outputId": "54fceaaf-a715-433b-e220-054d03d81952"
      },
      "execution_count": null,
      "outputs": [
        {
          "output_type": "stream",
          "name": "stdout",
          "text": [
            "149 ms ± 5.72 ms per loop (mean ± std. dev. of 7 runs, 1 loop each)\n"
          ]
        }
      ]
    },
    {
      "cell_type": "code",
      "source": [
        "#small dimensionality: pure jax converges in 145ms\n",
        "%%timeit\n",
        "vfi_jax(1, 25, 10, 0.5, 0.9, 50, 180, 1e-6, 0)"
      ],
      "metadata": {
        "id": "Zx2BhCEHizwO",
        "colab": {
          "base_uri": "https://localhost:8080/"
        },
        "outputId": "e6d6ebed-c572-43ed-cdae-698bbf072241"
      },
      "execution_count": null,
      "outputs": [
        {
          "output_type": "stream",
          "name": "stdout",
          "text": [
            "145 ms ± 11.4 ms per loop (mean ± std. dev. of 7 runs, 1 loop each)\n"
          ]
        }
      ]
    },
    {
      "cell_type": "code",
      "source": [
        "#large dimensionality: pure numpy\n",
        "%%time\n",
        "vfi_np(1, 25, 10, 0.5, 0.9, 10000, 180, 1e-6, \"va_np\", 0)"
      ],
      "metadata": {
        "id": "iAz-Egt5zaFH",
        "outputId": "8e2c603c-d6f3-4cad-dbc5-9d4a53a7390b",
        "colab": {
          "base_uri": "https://localhost:8080/"
        }
      },
      "execution_count": null,
      "outputs": [
        {
          "output_type": "stream",
          "name": "stderr",
          "text": [
            "<ipython-input-18-c7b70530892c>:6: RuntimeWarning: invalid value encountered in log\n",
            "  log_C_mat = np.where(C_mat > 0.01, np.log(C_mat), -np.inf)\n"
          ]
        }
      ]
    },
    {
      "cell_type": "code",
      "source": [
        "#large dimensionality: np outer with jax inner converges in 636ms\n",
        "%%timeit\n",
        "vfi_np(1, 25, 10, 0.5, 0.9, 10000, 180, 1e-6, \"va_jax\", 0)"
      ],
      "metadata": {
        "colab": {
          "base_uri": "https://localhost:8080/"
        },
        "id": "HZiSQQl6e2tI",
        "outputId": "1039c8ef-bb7c-49c6-fd84-c3660ebd9acd"
      },
      "execution_count": null,
      "outputs": [
        {
          "output_type": "stream",
          "name": "stdout",
          "text": [
            "636 ms ± 3.89 ms per loop (mean ± std. dev. of 7 runs, 1 loop each)\n"
          ]
        }
      ]
    },
    {
      "cell_type": "code",
      "source": [
        "#large dimensionality: pure jax converges in 679ms\n",
        "%%timeit\n",
        "vfi_jax(1, 25, 10, 0.5, 0.9, 10000, 180, 1e-6, 0)"
      ],
      "metadata": {
        "colab": {
          "base_uri": "https://localhost:8080/"
        },
        "id": "1VZujRJsfZet",
        "outputId": "2e33003d-8d3f-447d-ace2-52c22c7d230a"
      },
      "execution_count": null,
      "outputs": [
        {
          "output_type": "stream",
          "name": "stdout",
          "text": [
            "679 ms ± 8.2 ms per loop (mean ± std. dev. of 7 runs, 1 loop each)\n"
          ]
        }
      ]
    }
  ]
}